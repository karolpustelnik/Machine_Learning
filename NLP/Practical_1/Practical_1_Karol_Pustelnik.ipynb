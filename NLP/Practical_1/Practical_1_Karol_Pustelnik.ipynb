{
  "nbformat": 4,
  "nbformat_minor": 0,
  "metadata": {
    "colab": {
      "name": "Practical_1_Karol_Pustelnik",
      "provenance": [],
      "machine_shape": "hm",
      "collapsed_sections": []
    },
    "kernelspec": {
      "name": "python3",
      "display_name": "Python 3"
    }
  },
  "cells": [
    {
      "cell_type": "markdown",
      "source": [
        "# **Practical 1 - Karol Pustelnik 446518**"
      ],
      "metadata": {
        "id": "Oj_G4NGM4-X6"
      }
    },
    {
      "cell_type": "code",
      "source": [
        "\"\"\"Practical 1\n",
        "\n",
        "Greatly inspired by Stanford CS224 2019 class.\n",
        "\"\"\"\n",
        "\n",
        "import sys\n",
        "\n",
        "import pprint\n",
        "from turtle import window_width\n",
        "import sklearn\n",
        "import matplotlib.pyplot as plt\n",
        "from gensim.models import KeyedVectors\n",
        "from gensim.test.utils import datapath\n",
        "import random\n",
        "import nltk\n",
        "\n",
        "nltk.download('reuters')\n",
        "nltk.download('pl196x')\n",
        "import random\n",
        "import numpy as np\n",
        "import scipy as sp\n",
        "from nltk.corpus import reuters\n",
        "from nltk.corpus.reader import pl196x\n",
        "from sklearn.decomposition import PCA, TruncatedSVD\n",
        "\n",
        "START_TOKEN = '<START>'\n",
        "END_TOKEN = '<END>'\n",
        "\n",
        "np.random.seed(0)\n",
        "random.seed(0)\n"
      ],
      "metadata": {
        "colab": {
          "base_uri": "https://localhost:8080/"
        },
        "id": "tCFSqhHl0N-k",
        "outputId": "645915fa-0ab0-4f8f-f86d-9e8b9f7e4d37"
      },
      "execution_count": 1,
      "outputs": [
        {
          "output_type": "stream",
          "name": "stdout",
          "text": [
            "[nltk_data] Downloading package reuters to /root/nltk_data...\n",
            "[nltk_data]   Package reuters is already up-to-date!\n",
            "[nltk_data] Downloading package pl196x to /root/nltk_data...\n",
            "[nltk_data]   Package pl196x is already up-to-date!\n"
          ]
        }
      ]
    },
    {
      "cell_type": "code",
      "source": [
        "!pip install gensim --upgrade"
      ],
      "metadata": {
        "id": "Cv2LEQfVnN4F",
        "outputId": "3863fb63-8091-4c51-d9a8-e4c7462dc40d",
        "colab": {
          "base_uri": "https://localhost:8080/",
          "height": 324
        }
      },
      "execution_count": 4,
      "outputs": [
        {
          "output_type": "stream",
          "name": "stdout",
          "text": [
            "Requirement already satisfied: gensim in /usr/local/lib/python3.7/dist-packages (3.6.0)\n",
            "Collecting gensim\n",
            "  Downloading gensim-4.1.2-cp37-cp37m-manylinux_2_12_x86_64.manylinux2010_x86_64.whl (24.1 MB)\n",
            "\u001b[K     |████████████████████████████████| 24.1 MB 71.1 MB/s \n",
            "\u001b[?25hRequirement already satisfied: numpy>=1.17.0 in /usr/local/lib/python3.7/dist-packages (from gensim) (1.21.5)\n",
            "Requirement already satisfied: scipy>=0.18.1 in /usr/local/lib/python3.7/dist-packages (from gensim) (1.4.1)\n",
            "Requirement already satisfied: smart-open>=1.8.1 in /usr/local/lib/python3.7/dist-packages (from gensim) (5.2.1)\n",
            "Installing collected packages: gensim\n",
            "  Attempting uninstall: gensim\n",
            "    Found existing installation: gensim 3.6.0\n",
            "    Uninstalling gensim-3.6.0:\n",
            "      Successfully uninstalled gensim-3.6.0\n",
            "Successfully installed gensim-4.1.2\n"
          ]
        },
        {
          "output_type": "display_data",
          "data": {
            "application/vnd.colab-display-data+json": {
              "pip_warning": {
                "packages": [
                  "gensim"
                ]
              }
            }
          },
          "metadata": {}
        }
      ]
    },
    {
      "cell_type": "code",
      "source": [
        "import gensim"
      ],
      "metadata": {
        "id": "QeVanxhAzX7M"
      },
      "execution_count": 2,
      "outputs": []
    },
    {
      "cell_type": "code",
      "source": [
        "print(gensim.__version__)"
      ],
      "metadata": {
        "id": "d766oF2Uw1IV",
        "outputId": "e39d45be-c014-48b9-e41d-7d1db6d70959",
        "colab": {
          "base_uri": "https://localhost:8080/"
        }
      },
      "execution_count": 3,
      "outputs": [
        {
          "output_type": "stream",
          "name": "stdout",
          "text": [
            "4.1.2\n"
          ]
        }
      ]
    },
    {
      "cell_type": "markdown",
      "source": [
        "# **a) Implement `distinct words` function**"
      ],
      "metadata": {
        "id": "IYyhGPnlz_A9"
      }
    },
    {
      "cell_type": "code",
      "source": [
        "#################################\n",
        "# TODO: a)\n",
        "def distinct_words(corpus):\n",
        "    \"\"\" Determine a list of distinct words for the corpus.\n",
        "        Params:\n",
        "            corpus (list of list of strings): corpus of documents\n",
        "        Return:\n",
        "            corpus_words (list of strings): list of distinct words across the \n",
        "            corpus, sorted (using python 'sorted' function)\n",
        "            num_corpus_words (integer): number of distinct words across the \n",
        "            corpus\n",
        "    \"\"\"\n",
        "    corpus_words = []\n",
        "    num_corpus_words = -1\n",
        "    \n",
        "    # ------------------\n",
        "    # Write your implementation here.\n",
        "    for document in corpus:\n",
        "        for word in document:\n",
        "            if word not in corpus_words:\n",
        "                corpus_words.append(word)\n",
        "    corpus_words = sorted(corpus_words)\n",
        "    num_corpus_words = len(corpus_words)\n",
        "    # ------------------\n",
        "\n",
        "    return corpus_words, num_corpus_words\n",
        "\n",
        "\n",
        "# ---------------------\n",
        "# Run this sanity check\n",
        "# Note that this not an exhaustive check for correctness.\n",
        "# ---------------------\n",
        "\n",
        "# Define toy corpus\n",
        "test_corpus = [\"START Ala miec kot i pies END\".split(\" \"),\n",
        "               \"START Ala lubic kot END\".split(\" \")]     \n",
        "test_corpus_words, num_corpus_words = distinct_words(test_corpus)\n",
        "\n",
        "# Correct answers\n",
        "ans_test_corpus_words = sorted(list(set([\n",
        "    'Ala', 'END', 'START', 'i', 'kot', 'lubic', 'miec', 'pies'])))\n",
        "ans_num_corpus_words = len(ans_test_corpus_words)\n",
        "\n",
        "# Test correct number of words\n",
        "assert(num_corpus_words == ans_num_corpus_words), \"Incorrect number of distinct words. Correct: {}. Yours: {}\".format(ans_num_corpus_words, num_corpus_words)\n",
        "\n",
        "# Test correct words\n",
        "assert (test_corpus_words == ans_test_corpus_words), \"Incorrect corpus_words.\\nCorrect: {}\\nYours:   {}\".format(str(ans_test_corpus_words), str(test_corpus_words))\n",
        "\n",
        "# Print Success\n",
        "print (\"-\" * 80)\n",
        "print(\"Passed All Tests!\")\n",
        "print (\"-\" * 80)\n"
      ],
      "metadata": {
        "id": "IErIRvO3y7j0",
        "colab": {
          "base_uri": "https://localhost:8080/"
        },
        "outputId": "c37945ee-6153-4d6c-b87f-72921516cc2a"
      },
      "execution_count": 4,
      "outputs": [
        {
          "output_type": "stream",
          "name": "stdout",
          "text": [
            "--------------------------------------------------------------------------------\n",
            "Passed All Tests!\n",
            "--------------------------------------------------------------------------------\n"
          ]
        }
      ]
    },
    {
      "cell_type": "markdown",
      "source": [
        "# **b) Implement `compute co occurrence matrix` function**"
      ],
      "metadata": {
        "id": "SFI-e5Zv0Cyi"
      }
    },
    {
      "cell_type": "code",
      "source": [
        "#################################\n",
        "# TODO: b)\n",
        "def compute_co_occurrence_matrix(corpus, window_size=4):\n",
        "    \"\"\" Compute co-occurrence matrix for the given corpus and window_size (default of 4).\n",
        "    \n",
        "        Note: Each word in a document should be at the center of a window.\n",
        "            Words near edges will have a smaller number of co-occurring words.\n",
        "              \n",
        "              For example, if we take the document \"START All that glitters is not gold END\" with window size of 4,\n",
        "              \"All\" will co-occur with \"START\", \"that\", \"glitters\", \"is\", and \"not\".\n",
        "    \n",
        "        Params:\n",
        "            corpus (list of list of strings): corpus of documents\n",
        "            window_size (int): size of context window\n",
        "        Return:\n",
        "            M (numpy matrix of shape (number of corpus words, number of corpus words)): \n",
        "                Co-occurence matrix of word counts. \n",
        "                The ordering of the words in the rows/columns should be the \n",
        "                same as the ordering of the words given by the distinct_words \n",
        "                function.\n",
        "            word2Ind (dict): dictionary that maps word to index \n",
        "                (i.e. row/column number) for matrix M.\n",
        "    \"\"\"\n",
        "    words, num_words = distinct_words(corpus)\n",
        "    M = np.zeros((num_words, num_words))\n",
        "    word2Ind = {}\n",
        "    print(M)\n",
        "    # ------------------\n",
        "    # Write your implementation here.\n",
        "    for i, word1 in enumerate(words):\n",
        "        word2Ind.update({word1: i})\n",
        "    for document in corpus:\n",
        "            for word1 in document:\n",
        "                for word2 in document:\n",
        "\n",
        "                    if abs(document.index(word2) - document.index(word1))< window_size+1 and word2 !=word1 :\n",
        "                        M[word2Ind[word1],word2Ind[word2]] +=1\n",
        "    return M, word2Ind"
      ],
      "metadata": {
        "id": "-u5T12Sk0UMp"
      },
      "execution_count": 5,
      "outputs": []
    },
    {
      "cell_type": "code",
      "source": [
        "# ---------------------\n",
        "# Run this sanity check\n",
        "# Note that this is not an exhaustive check for correctness.\n",
        "# ---------------------\n",
        "\n",
        "# Define toy corpus and get student's co-occurrence matrix\n",
        "test_corpus = [\"START Ala miec kot i pies END\".split(\" \"),\n",
        "               \"START Ala lubic kot END\".split(\" \")]     \n",
        "M_test, word2Ind_test = compute_co_occurrence_matrix(\n",
        "    test_corpus, window_size=1)\n",
        "\n",
        "# Correct M and word2Ind\n",
        "M_test_ans = np.array([\n",
        "    [0., 0., 2., 0., 0., 1., 1., 0.],\n",
        "    [0., 0., 0., 0., 1., 0., 0., 1.],\n",
        "    [2., 0., 0., 0., 0., 0., 0., 0.],\n",
        "    [0., 0., 0., 0., 1., 0., 0., 1.],\n",
        "    [0., 1., 0., 1., 0., 1., 1., 0.],\n",
        "    [1., 0., 0., 0., 1., 0., 0., 0.],\n",
        "    [1., 0., 0., 0., 1., 0., 0., 0.],\n",
        "    [0., 1., 0., 1., 0., 0., 0., 0.]\n",
        "])\n",
        "\n",
        "word2Ind_ans = {\n",
        "    'Ala': 0, 'END': 1, 'START': 2, 'i': 3, 'kot': 4, 'lubic': 5, 'miec': 6,\n",
        "    'pies': 7}\n",
        "\n",
        "# Test correct word2Ind\n",
        "assert (word2Ind_ans == word2Ind_test), \"Your word2Ind is incorrect:\\nCorrect: {}\\nYours: {}\".format(word2Ind_ans, word2Ind_test)\n",
        "\n",
        "# Test correct M shape\n",
        "assert (M_test.shape == M_test_ans.shape), \"M matrix has incorrect shape.\\nCorrect: {}\\nYours: {}\".format(M_test.shape, M_test_ans.shape)\n",
        "\n",
        "# Test correct M values\n",
        "for w1 in word2Ind_ans.keys():\n",
        "    idx1 = word2Ind_ans[w1]\n",
        "    for w2 in word2Ind_ans.keys():\n",
        "        idx2 = word2Ind_ans[w2]\n",
        "        student = M_test[idx1, idx2]\n",
        "        correct = M_test_ans[idx1, idx2]\n",
        "        if student != correct:\n",
        "            print(\"Correct M:\")\n",
        "            print(M_test_ans)\n",
        "            print(\"Your M: \")\n",
        "            print(M_test)\n",
        "            raise AssertionError(\"Incorrect count at index ({}, {})=({}, {}) in matrix M. Yours has {} but should have {}.\".format(idx1, idx2, w1, w2, student, correct))\n",
        "\n",
        "# Print Success\n",
        "print (\"-\" * 80)\n",
        "print(\"Passed All Tests!\")\n",
        "print (\"-\" * 80)\n"
      ],
      "metadata": {
        "colab": {
          "base_uri": "https://localhost:8080/"
        },
        "id": "aM2kaEIP0oNG",
        "outputId": "787c8e65-861b-42da-b002-b1884bb045eb"
      },
      "execution_count": 6,
      "outputs": [
        {
          "output_type": "stream",
          "name": "stdout",
          "text": [
            "[[0. 0. 0. 0. 0. 0. 0. 0.]\n",
            " [0. 0. 0. 0. 0. 0. 0. 0.]\n",
            " [0. 0. 0. 0. 0. 0. 0. 0.]\n",
            " [0. 0. 0. 0. 0. 0. 0. 0.]\n",
            " [0. 0. 0. 0. 0. 0. 0. 0.]\n",
            " [0. 0. 0. 0. 0. 0. 0. 0.]\n",
            " [0. 0. 0. 0. 0. 0. 0. 0.]\n",
            " [0. 0. 0. 0. 0. 0. 0. 0.]]\n",
            "--------------------------------------------------------------------------------\n",
            "Passed All Tests!\n",
            "--------------------------------------------------------------------------------\n"
          ]
        }
      ]
    },
    {
      "cell_type": "markdown",
      "source": [
        "# **c) Implement `reduce to k dim` function**"
      ],
      "metadata": {
        "id": "1K9nQAkP0LHa"
      }
    },
    {
      "cell_type": "code",
      "source": [
        "#################################\n",
        "# TODO: c)\n",
        "def reduce_to_k_dim(M, k=2):\n",
        "    \"\"\" Reduce a co-occurence count matrix of dimensionality\n",
        "        (num_corpus_words, num_corpus_words)\n",
        "        to a matrix of dimensionality (num_corpus_words, k) using the following\n",
        "         SVD function from Scikit-Learn:\n",
        "            - http://scikit-learn.org/stable/modules/generated/sklearn.decomposition.TruncatedSVD.html\n",
        "\n",
        "        Params:\n",
        "            M (numpy matrix of shape (number of corpus words, number \n",
        "                of corpus words)): co-occurence matrix of word counts\n",
        "            k (int): embedding size of each word after dimension reduction\n",
        "        Return:\n",
        "            M_reduced (numpy matrix of shape (number of corpus words, k)):\n",
        "            matrix of k-dimensioal word embeddings.\n",
        "            In terms of the SVD from math class, this actually returns U * S\n",
        "    \"\"\"\n",
        "    n_iters = 10     # Use this parameter in your call to `TruncatedSVD`\n",
        "    M_reduced = None\n",
        "    print(\"Running Truncated SVD over %i words...\" % (M.shape[0]))\n",
        "\n",
        "    # ------------------\n",
        "    svd = sklearn.decomposition.TruncatedSVD(n_components = k, n_iter = n_iters)\n",
        "    svd.fit(M)\n",
        "    M_reduced = svd.transform(M)\n",
        "    # ------------------\n",
        "\n",
        "    print(\"Done.\")\n",
        "    return M_reduced\n",
        "\n",
        "# ---------------------\n",
        "# Run this sanity check\n",
        "# Note that this not an exhaustive check for correctness \n",
        "# In fact we only check that your M_reduced has the right dimensions.\n",
        "# ---------------------\n",
        "\n",
        "# Define toy corpus and run student code\n",
        "test_corpus = [\"START Ala miec kot i pies END\".split(\" \"),\n",
        "               \"START Ala lubic kot END\".split(\" \")]  \n",
        "M_test, word2Ind_test = compute_co_occurrence_matrix(test_corpus, window_size=1)\n",
        "M_test_reduced = reduce_to_k_dim(M_test, k=2)\n",
        "\n",
        "# Test proper dimensions\n",
        "assert (M_test_reduced.shape[0] == 8), \"M_reduced has {} rows; should have {}\".format(M_test_reduced.shape[0], 8)\n",
        "assert (M_test_reduced.shape[1] == 2), \"M_reduced has {} columns; should have {}\".format(M_test_reduced.shape[1], 2)\n",
        "\n",
        "# Print Success\n",
        "print (\"-\" * 80)\n",
        "print(\"Passed All Tests!\")\n",
        "print (\"-\" * 80)\n",
        "\n",
        "#################################"
      ],
      "metadata": {
        "colab": {
          "base_uri": "https://localhost:8080/"
        },
        "id": "CV_bPbvm0pBo",
        "outputId": "48ae1fcc-056a-4232-d638-a667c348d80a"
      },
      "execution_count": 7,
      "outputs": [
        {
          "output_type": "stream",
          "name": "stdout",
          "text": [
            "[[0. 0. 0. 0. 0. 0. 0. 0.]\n",
            " [0. 0. 0. 0. 0. 0. 0. 0.]\n",
            " [0. 0. 0. 0. 0. 0. 0. 0.]\n",
            " [0. 0. 0. 0. 0. 0. 0. 0.]\n",
            " [0. 0. 0. 0. 0. 0. 0. 0.]\n",
            " [0. 0. 0. 0. 0. 0. 0. 0.]\n",
            " [0. 0. 0. 0. 0. 0. 0. 0.]\n",
            " [0. 0. 0. 0. 0. 0. 0. 0.]]\n",
            "Running Truncated SVD over 8 words...\n",
            "Done.\n",
            "--------------------------------------------------------------------------------\n",
            "Passed All Tests!\n",
            "--------------------------------------------------------------------------------\n"
          ]
        }
      ]
    },
    {
      "cell_type": "markdown",
      "source": [
        "# **d) Implement `plot embeddings` function**"
      ],
      "metadata": {
        "id": "scyI7Sy30POr"
      }
    },
    {
      "cell_type": "code",
      "source": [
        "# TODO: d)\n",
        "def plot_embeddings(M_reduced, word2Ind, words):\n",
        "    \"\"\" Plot in a scatterplot the embeddings of the words specified \n",
        "        in the list \"words\".\n",
        "        NOTE: do not plot all the words listed in M_reduced / word2Ind.\n",
        "        Include a label next to each point.\n",
        "        \n",
        "        Params:\n",
        "            M_reduced (numpy matrix of shape (number of unique words in the\n",
        "            corpus , k)): matrix of k-dimensioal word embeddings\n",
        "            word2Ind (dict): dictionary that maps word to indices for matrix M\n",
        "            words (list of strings): words whose embeddings we want to\n",
        "            visualize\n",
        "    \"\"\"\n",
        "\n",
        "    # ------------------\n",
        "    xs = []\n",
        "    ys = []\n",
        "    for word in words:\n",
        "        w_index = word2Ind[word]\n",
        "        vector = M_reduced[w_index,:]\n",
        "        xs.append(vector[0])\n",
        "        ys.append(vector[1])\n",
        "    plt.scatter(xs,ys)\n",
        "    for i,t in enumerate(zip(xs,ys)):\n",
        "\n",
        "        label = words[i]\n",
        "\n",
        "        plt.annotate(label, # this is the text\n",
        "                 t, # these are the coordinates to position the label\n",
        "                 textcoords=\"offset points\", # how to position the text\n",
        "                 xytext=(0,10), # distance from text to points (x,y)\n",
        "                 ha='center')\n",
        "    plt.show()\n",
        "\n",
        "    # ------------------#\n",
        "\n",
        "# ---------------------\n",
        "# Run this sanity check\n",
        "# Note that this not an exhaustive check for correctness.\n",
        "# The plot produced should look like the \"test solution plot\" depicted below. \n",
        "# ---------------------\n",
        "\n",
        "print (\"-\" * 80)\n",
        "print (\"Outputted Plot:\")\n",
        "\n",
        "M_reduced_plot_test = np.array([[1, 1], [-1, -1], [1, -1], [-1, 1], [0, 0]])\n",
        "word2Ind_plot_test = {\n",
        "    'test1': 0, 'test2': 1, 'test3': 2, 'test4': 3, 'test5': 4}\n",
        "words = ['test1', 'test2', 'test3', 'test4', 'test5']\n",
        "plot_embeddings(M_reduced_plot_test, word2Ind_plot_test, words)\n",
        "\n",
        "print (\"-\" * 80)"
      ],
      "metadata": {
        "colab": {
          "base_uri": "https://localhost:8080/",
          "height": 324
        },
        "id": "jTrufVji0tB_",
        "outputId": "8adc46fe-93fd-455f-9189-55577690de27"
      },
      "execution_count": 8,
      "outputs": [
        {
          "output_type": "stream",
          "name": "stdout",
          "text": [
            "--------------------------------------------------------------------------------\n",
            "Outputted Plot:\n"
          ]
        },
        {
          "output_type": "display_data",
          "data": {
            "text/plain": [
              "<Figure size 432x288 with 1 Axes>"
            ],
            "image/png": "[encoded data removed]"
          },
          "metadata": {
            "needs_background": "light"
          }
        },
        {
          "output_type": "stream",
          "name": "stdout",
          "text": [
            "--------------------------------------------------------------------------------\n"
          ]
        }
      ]
    },
    {
      "cell_type": "markdown",
      "source": [
        "# **e) Co-Occurrence Plot Analysis**"
      ],
      "metadata": {
        "id": "GKaYBwo50UlX"
      }
    },
    {
      "cell_type": "code",
      "source": [
        "#################################\n",
        "# TODO: e)\n",
        "# -----------------------------\n",
        "# Run This Cell to Produce Your Plot\n",
        "# ------------------------------\n",
        "\n",
        "def read_corpus_pl():\n",
        "    \"\"\" Read files from the specified Reuter's category.\n",
        "        Params:\n",
        "            category (string): category name\n",
        "        Return:\n",
        "            list of lists, with words from each of the processed files\n",
        "    \"\"\"\n",
        "    pl196x_dir = nltk.data.find('corpora/pl196x')\n",
        "    pl = pl196x.Pl196xCorpusReader(\n",
        "        pl196x_dir, r'.*\\.xml', textids='textids.txt',cat_file=\"cats.txt\")\n",
        "    tsents = pl.tagged_sents(fileids=pl.fileids(),categories='cats.txt')[:5000]\n",
        "\n",
        "    return [[START_TOKEN] + [\n",
        "        w[0].lower() for w in list(sent)] + [END_TOKEN] for sent in tsents]\n",
        "\n",
        "\n",
        "def plot_unnormalized(corpus, words):\n",
        "    M_co_occurrence, word2Ind_co_occurrence = compute_co_occurrence_matrix(\n",
        "        corpus)\n",
        "    M_reduced_co_occurrence = reduce_to_k_dim(M_co_occurrence, k=2)\n",
        "    plot_embeddings(M_reduced_co_occurrence, word2Ind_co_occurrence, words)\n",
        "\n",
        "\n",
        "def plot_normalized(corpus, words):\n",
        "    M_co_occurrence, word2Ind_co_occurrence = compute_co_occurrence_matrix(\n",
        "        corpus)\n",
        "    M_reduced_co_occurrence = reduce_to_k_dim(M_co_occurrence, k=2)\n",
        "    # Rescale (normalize) the rows to make them each of unit-length\n",
        "    M_lengths = np.linalg.norm(M_reduced_co_occurrence, axis=1)\n",
        "    M_normalized = M_reduced_co_occurrence / M_lengths[:, np.newaxis] # broadcasting\n",
        "    plot_embeddings(M_normalized, word2Ind_co_occurrence, words)\n",
        "\n",
        "pl_corpus = read_corpus_pl()\n",
        "words = [\n",
        "    \"sztuka\", \"śpiewaczka\", \"literatura\", \"poeta\", \"obywatel\"]\n",
        "\n",
        "plot_normalized(pl_corpus, words)\n",
        "plot_unnormalized(pl_corpus, words)\n",
        "\n",
        "\n",
        "#################################"
      ],
      "metadata": {
        "colab": {
          "base_uri": "https://localhost:8080/",
          "height": 836
        },
        "id": "3JpRXjmx0wHM",
        "outputId": "2e24ce2a-fa61-4ad3-9685-47d910af8749"
      },
      "execution_count": 9,
      "outputs": [
        {
          "output_type": "stream",
          "name": "stdout",
          "text": [
            "[[0. 0. 0. ... 0. 0. 0.]\n",
            " [0. 0. 0. ... 0. 0. 0.]\n",
            " [0. 0. 0. ... 0. 0. 0.]\n",
            " ...\n",
            " [0. 0. 0. ... 0. 0. 0.]\n",
            " [0. 0. 0. ... 0. 0. 0.]\n",
            " [0. 0. 0. ... 0. 0. 0.]]\n",
            "Running Truncated SVD over 22957 words...\n",
            "Done.\n"
          ]
        },
        {
          "output_type": "display_data",
          "data": {
            "text/plain": [
              "<Figure size 432x288 with 1 Axes>"
            ],
            "image/png": "[encoded data removed]"
          },
          "metadata": {
            "needs_background": "light"
          }
        },
        {
          "output_type": "stream",
          "name": "stdout",
          "text": [
            "[[0. 0. 0. ... 0. 0. 0.]\n",
            " [0. 0. 0. ... 0. 0. 0.]\n",
            " [0. 0. 0. ... 0. 0. 0.]\n",
            " ...\n",
            " [0. 0. 0. ... 0. 0. 0.]\n",
            " [0. 0. 0. ... 0. 0. 0.]\n",
            " [0. 0. 0. ... 0. 0. 0.]]\n",
            "Running Truncated SVD over 22957 words...\n",
            "Done.\n"
          ]
        },
        {
          "output_type": "display_data",
          "data": {
            "text/plain": [
              "<Figure size 432x288 with 1 Axes>"
            ],
            "image/png": "[encoded data removed]"
          },
          "metadata": {
            "needs_background": "light"
          }
        }
      ]
    },
    {
      "cell_type": "markdown",
      "source": [
        "* What clusters together in 2-dimensional embedding space? \n",
        "\n",
        "On normalized plot:\n",
        "\n",
        "`literatura`, `poeta`, `obywatel`\n",
        "\n",
        "On not normalized plot:\n",
        "\n",
        "`śpiewaczka` and `poeta`\n",
        "\n",
        "* What doesn’t cluster together that you might think should have? \n",
        "\n",
        "On normalized plot:\n",
        "\n",
        "I think all of the words should cluster together. E\n",
        "\n",
        "On not normalized plot:\n",
        "\n",
        "I think all of the words should cluster together. Especially `literatura` should cluster with `śpiewczka`, `poeta` and `sztuka`.\n",
        "\n",
        "* Is normalization necessary?\n",
        "\n",
        "I think normalization is necessary because if the data set contains an unbalanced number of some words (for example because the data comes from books about nature) then vectors representing these words will have a bigger length. This may result in weird clustering (or lack of clustering) of words."
      ],
      "metadata": {
        "id": "z-rrxcfK2AkY"
      }
    },
    {
      "cell_type": "markdown",
      "source": [
        "# **Section 2 Prediction-Based Word Vectors**"
      ],
      "metadata": {
        "id": "k0dZBOjK0zwd"
      }
    },
    {
      "cell_type": "code",
      "source": [
        "from google.colab import drive\n",
        "drive.mount('/content/drive')"
      ],
      "metadata": {
        "colab": {
          "base_uri": "https://localhost:8080/"
        },
        "id": "d-n0xrk84o5c",
        "outputId": "660ad714-43b2-490b-e9bd-c10dff466e76"
      },
      "execution_count": 11,
      "outputs": [
        {
          "output_type": "stream",
          "name": "stdout",
          "text": [
            "Mounted at /content/drive\n"
          ]
        }
      ]
    },
    {
      "cell_type": "markdown",
      "source": [
        "# **a) Reducing dimensionality of Word2Vec Word Embeddings**"
      ],
      "metadata": {
        "id": "rOJorlWv0mVt"
      }
    },
    {
      "cell_type": "code",
      "source": [
        "# Section 2:\n",
        "#################################\n",
        "# Then run the following to load the word2vec vectors into memory. \n",
        "# Note: This might take several minutes.\n",
        "wv_from_bin_pl = KeyedVectors.load(\"/content/drive/My Drive/Natural Language processing/Practical_1/word2vec_100_3_polish.bin\")\n",
        "\n",
        "# -----------------------------------\n",
        "# Run Cell to Load Word Vectors\n",
        "# Note: This may take several minutes\n",
        "# -----------------------------------\n",
        "\n",
        "\n",
        "#################################\n",
        "# TODO: a)\n",
        "def get_matrix_of_vectors(wv_from_bin, required_words):\n",
        "    \"\"\" Put the word2vec vectors into a matrix M.\n",
        "        Param:\n",
        "            wv_from_bin: KeyedVectors object; the 3 million word2vec vectors\n",
        "                         loaded from file\n",
        "        Return:\n",
        "            M: numpy matrix shape (num words, 300) containing the vectors\n",
        "            word2Ind: dictionary mapping each word to its row number in M\n",
        "    \"\"\"\n",
        "    words = list(wv_from_bin.key_to_index.keys())\n",
        "    print(\"Shuffling words ...\")\n",
        "    random.shuffle(words)\n",
        "    words = words[:10000]\n",
        "    print(\"Putting %i words into word2Ind and matrix M...\" % len(words))\n",
        "    word2Ind = {}\n",
        "    M = []\n",
        "    curInd = 0\n",
        "    for w in words:\n",
        "        try:\n",
        "            M.append(wv_from_bin.word_vec(w))\n",
        "            word2Ind[w] = curInd\n",
        "            curInd += 1\n",
        "        except KeyError:\n",
        "            continue\n",
        "    for w in required_words:\n",
        "        try:\n",
        "            M.append(wv_from_bin.word_vec(w))\n",
        "            word2Ind[w] = curInd\n",
        "            curInd += 1\n",
        "        except KeyError:\n",
        "            continue\n",
        "    M = np.stack(M)\n",
        "    print(\"Done.\")\n",
        "    return M, word2Ind\n",
        "\n",
        "# -----------------------------------------------------------------\n",
        "# Run Cell to Reduce 300-Dimensinal Word Embeddings to k Dimensions\n",
        "# Note: This may take several minutes\n",
        "# -----------------------------------------------------------------\n",
        "\n",
        "#################################\n",
        "# TODO: a)\n",
        "M, word2Ind = get_matrix_of_vectors(wv_from_bin_pl, words)\n",
        "M_reduced = reduce_to_k_dim(M, k=2)\n",
        "\n",
        "words = [\n",
        "    \"sztuka\", \"śpiewaczka\", \"literatura\", \"poeta\", \"obywatel\"]\n",
        "plot_embeddings(M_reduced, word2Ind, words)\n",
        "\n"
      ],
      "metadata": {
        "colab": {
          "base_uri": "https://localhost:8080/",
          "height": 392
        },
        "id": "Rld-BzoV02I7",
        "outputId": "75b208b1-b217-4477-8898-b52a91620542"
      },
      "execution_count": 12,
      "outputs": [
        {
          "output_type": "stream",
          "name": "stdout",
          "text": [
            "Shuffling words ...\n",
            "Putting 10000 words into word2Ind and matrix M...\n",
            "Done.\n",
            "Running Truncated SVD over 10005 words...\n",
            "Done.\n"
          ]
        },
        {
          "output_type": "stream",
          "name": "stderr",
          "text": [
            "/usr/local/lib/python3.7/dist-packages/ipykernel_launcher.py:34: DeprecationWarning: Call to deprecated `word_vec` (Use get_vector instead).\n",
            "/usr/local/lib/python3.7/dist-packages/ipykernel_launcher.py:41: DeprecationWarning: Call to deprecated `word_vec` (Use get_vector instead).\n"
          ]
        },
        {
          "output_type": "display_data",
          "data": {
            "text/plain": [
              "<Figure size 432x288 with 1 Axes>"
            ],
            "image/png": "[encoded data removed]"
          },
          "metadata": {
            "needs_background": "light"
          }
        }
      ]
    },
    {
      "cell_type": "markdown",
      "source": [
        "* What clusters together in 2-dimensional embedding space? \n",
        "\n",
        "`literatura` and `obywatel`\n",
        "\n",
        "* What doesn’t cluster together that you might think should have? \n",
        "\n",
        "Like I wrote above, I think all words should cluster. Especially `literatura` should cluster with `sztuka` and `poeta`.\n",
        "* How is the plot different from the one generated earlier from the co-occurrence matrix?\n",
        "\n",
        "\n",
        "Words are more scattered."
      ],
      "metadata": {
        "id": "koXs-kDC1xva"
      }
    },
    {
      "cell_type": "markdown",
      "source": [
        "# **b) Polysemous Words**"
      ],
      "metadata": {
        "id": "mL2iasgF1iip"
      }
    },
    {
      "cell_type": "code",
      "source": [
        "#################################\n",
        "# TODO: b)\n",
        "# Polysemous Words\n",
        "print(wv_from_bin_pl.most_similar('komentować'))\n",
        "# Write your polysemous word exploration code here.\n",
        "\n",
        "print(wv_from_bin_pl.most_similar(\"stówa\"))\n",
        "# ------------------\n",
        "\n",
        "#################################"
      ],
      "metadata": {
        "id": "YtoFmnmJ08ki",
        "colab": {
          "base_uri": "https://localhost:8080/"
        },
        "outputId": "7f49e29f-7c95-4a94-ce16-166d2e6b702d"
      },
      "execution_count": 13,
      "outputs": [
        {
          "output_type": "stream",
          "name": "stdout",
          "text": [
            "[('relacjonować', 0.8024853467941284), ('przemilczać', 0.7108123898506165), ('opisywać', 0.7035387754440308), ('referować', 0.6902177333831787), ('skomentować', 0.68558669090271), ('parodiować', 0.6824942231178284), ('wykpiwać', 0.6747420430183411), ('krytykować', 0.6696772575378418), ('przytaczać', 0.6656436920166016), ('inscenizować', 0.6649641394615173)]\n",
            "[('słowa', 0.6893048286437988), ('cent', 0.6367954015731812), ('słowo', 0.6246823072433472), ('stówka', 0.6103435158729553), ('słówko', 0.608944833278656), ('pens', 0.5825462937355042), ('tów', 0.5744858980178833), ('wers', 0.573552668094635), ('centym', 0.5726915597915649), ('komunał', 0.5709105730056763)]\n"
          ]
        },
        {
          "output_type": "stream",
          "name": "stderr",
          "text": [
            "/usr/local/lib/python3.7/dist-packages/gensim/models/keyedvectors.py:783: RuntimeWarning: invalid value encountered in true_divide\n",
            "  dists = dot(self.vectors[clip_start:clip_end], mean) / self.norms[clip_start:clip_end]\n"
          ]
        }
      ]
    },
    {
      "cell_type": "markdown",
      "source": [
        "# **Answer:**\n",
        "`'comment'`\n",
        "\n",
        "`Comment - e.g. a football match`\n",
        "`Comment - e.g. to criticize`\n",
        "\n",
        "example:\n",
        "\n",
        "Dariusz Szpakowski comments on the Poland - Italy match.\n",
        "\n",
        "Mom commented on her son's unpleasant behavior at the table.\n",
        "\n",
        "In the sentences above, the word comment has different meanings. In the former, the meaning is literal, in the latter, commenting is understood as criticizing.\n",
        "\n",
        "# **Why do you think many of the polysemous words you tried didn’t work?**\n",
        "\n",
        "Many of the words that I tried were not polyesmous because the Polish language is so rich that it is difficult to find words that have completely different meanings depending on the context. The opposite is in English. There are many more of these types of words."
      ],
      "metadata": {
        "id": "1luFRPuZx_bE"
      }
    },
    {
      "cell_type": "markdown",
      "source": [
        "# **c) Synonyms & Antonyms**"
      ],
      "metadata": {
        "id": "rKfJB74ky22f"
      }
    },
    {
      "cell_type": "code",
      "source": [
        "#################################\n",
        "# TODO: c)\n",
        "# Synonyms & Antonyms\n",
        "w1 = \"ubierać\"\n",
        "w2 = \"zakładać\"\n",
        "w3 = \"rozbierać\"\n",
        "w1_w2_dist = wv_from_bin_pl.distance(w1, w2)\n",
        "w1_w3_dist = wv_from_bin_pl.distance(w1, w3)\n",
        "\n",
        "print(\"Synonyms {}, {} have cosine distance: {}\".format(w1, w2, w1_w2_dist))\n",
        "print(\"Antonyms {}, {} have cosine distance: {}\".format(w1, w3, w1_w3_dist))\n",
        "# Write your synonym & antonym exploration code here.\n",
        "\n",
        "w1 = \"radosny\"\n",
        "w2 = \"pogodny\"\n",
        "w3 = \"smutny\"\n",
        "w1_w2_dist = wv_from_bin_pl.distance(w1, w2)\n",
        "w1_w3_dist = wv_from_bin_pl.distance(w1, w3)\n",
        "\n",
        "print(\"Synonyms {}, {} have cosine distance: {}\".format(w1, w2, w1_w2_dist))\n",
        "print(\"Antonyms {}, {} have cosine distance: {}\".format(w1, w3, w1_w3_dist))\n",
        "\n",
        "#################################"
      ],
      "metadata": {
        "id": "Ieffbzbk0-lt",
        "colab": {
          "base_uri": "https://localhost:8080/"
        },
        "outputId": "38792b04-3613-43a0-fa6f-5540a6a22ca9"
      },
      "execution_count": 14,
      "outputs": [
        {
          "output_type": "stream",
          "name": "stdout",
          "text": [
            "Synonyms ubierać, zakładać have cosine distance: 0.7278538644313812\n",
            "Antonyms ubierać, rozbierać have cosine distance: 0.26450175046920776\n",
            "Synonyms radosny, pogodny have cosine distance: 0.3306429386138916\n",
            "Antonyms radosny, smutny have cosine distance: 0.347899854183197\n"
          ]
        }
      ]
    },
    {
      "cell_type": "markdown",
      "source": [
        "# **Why this counter intuitive result may have happened?**\n",
        "It seems to me that the word `zakładać` is rarely used in the context of `ubrania`."
      ],
      "metadata": {
        "id": "r2vXZFZpyjIl"
      }
    },
    {
      "cell_type": "markdown",
      "source": [
        "# **d) Finding Analogies**"
      ],
      "metadata": {
        "id": "Q5qAvEQHzBdj"
      }
    },
    {
      "cell_type": "code",
      "source": [
        "# TODO: d)\n",
        "# Solving Analogies with Word Vectors\n",
        "# ------------------\n",
        "pprint.pprint(wv_from_bin_pl.most_similar(\n",
        "    positive=[\"kot\", \"lwica\"], negative=[\"lew\"]))\n",
        "# ------------------\n",
        "# Write your analogy exploration code here.\n",
        "pprint.pprint(wv_from_bin_pl.most_similar(\n",
        "    positive=[\"syn\", \"kobieta\"], negative=[\"mezczyzna\"]))\n",
        "\n",
        "\n",
        "#################################"
      ],
      "metadata": {
        "id": "XNyvhS5d1Cbs",
        "colab": {
          "base_uri": "https://localhost:8080/"
        },
        "outputId": "1334a11f-f4e5-4963-a5a5-a0bd0f4a9766"
      },
      "execution_count": 15,
      "outputs": [
        {
          "output_type": "stream",
          "name": "stdout",
          "text": [
            "[('kocica', 0.7683546543121338),\n",
            " ('kotka', 0.7580625414848328),\n",
            " ('suczka', 0.7510557770729065),\n",
            " ('fretka', 0.7507363557815552),\n",
            " ('zwierzątko', 0.7293815016746521),\n",
            " ('kociak', 0.7208428978919983),\n",
            " ('kocię', 0.7118603587150574),\n",
            " ('łasica', 0.7073625326156616),\n",
            " ('małpka', 0.7022215127944946),\n",
            " ('zwierzak', 0.7007642388343811)]\n",
            "[('córka', 0.6928777098655701),\n",
            " ('dziecko', 0.6763085722923279),\n",
            " ('matka', 0.6552439332008362),\n",
            " ('żona', 0.6547046899795532),\n",
            " ('siostra', 0.6358523368835449),\n",
            " ('mąż', 0.6058387160301208),\n",
            " ('dziewczę', 0.6008315086364746),\n",
            " ('rodzic', 0.5781418681144714),\n",
            " ('ojciec', 0.5779308676719666),\n",
            " ('rodzeństwo', 0.5768202543258667)]\n"
          ]
        },
        {
          "output_type": "stream",
          "name": "stderr",
          "text": [
            "/usr/local/lib/python3.7/dist-packages/gensim/models/keyedvectors.py:783: RuntimeWarning: invalid value encountered in true_divide\n",
            "  dists = dot(self.vectors[clip_start:clip_end], mean) / self.norms[clip_start:clip_end]\n"
          ]
        }
      ]
    },
    {
      "cell_type": "markdown",
      "source": [
        "# **Answer**\n",
        "`lew: kot :: lwica: kocica`"
      ],
      "metadata": {
        "id": "kAE7LcPY4cVN"
      }
    },
    {
      "cell_type": "markdown",
      "source": [
        "# **e) Incorrect Analogies**"
      ],
      "metadata": {
        "id": "LKFuN12ezHmj"
      }
    },
    {
      "cell_type": "code",
      "source": [
        "#################################\n",
        "# TODO: e)\n",
        "# Incorrect Analogy\n",
        "# ------------------\n",
        "pprint.pprint(wv_from_bin_pl.most_similar(\n",
        "    positive=[\"jeleń\", \"lwica\"], negative=[\"lew\"]))\n",
        "\n",
        "# ------------------"
      ],
      "metadata": {
        "id": "cI3V1HDj1D5n",
        "colab": {
          "base_uri": "https://localhost:8080/"
        },
        "outputId": "2e3d286b-9f98-4268-bbd1-b67009983ef2"
      },
      "execution_count": 16,
      "outputs": [
        {
          "output_type": "stream",
          "name": "stdout",
          "text": [
            "[('sarenka', 0.733302891254425),\n",
            " ('łasica', 0.726658046245575),\n",
            " ('kocica', 0.7265701293945312),\n",
            " ('gazela', 0.7262505292892456),\n",
            " ('tygrysica', 0.715373694896698),\n",
            " ('wilczyca', 0.7132043242454529),\n",
            " ('antylopa', 0.6952416300773621),\n",
            " ('słonica', 0.6938884854316711),\n",
            " ('kojot', 0.6847917437553406),\n",
            " ('klacz', 0.6847697496414185)]\n"
          ]
        },
        {
          "output_type": "stream",
          "name": "stderr",
          "text": [
            "/usr/local/lib/python3.7/dist-packages/gensim/models/keyedvectors.py:783: RuntimeWarning: invalid value encountered in true_divide\n",
            "  dists = dot(self.vectors[clip_start:clip_end], mean) / self.norms[clip_start:clip_end]\n"
          ]
        }
      ]
    },
    {
      "cell_type": "markdown",
      "source": [
        "# **Answer**\n",
        "\n",
        "`lew: jeleń :: lwica: sarenka`\n",
        "\n",
        "Should `sarna` instead of `sarenka`."
      ],
      "metadata": {
        "id": "YcDL2h-p4iHQ"
      }
    },
    {
      "cell_type": "markdown",
      "source": [
        "# **f) Guided Analysis of Bias in Word Vectors**"
      ],
      "metadata": {
        "id": "h_Qckp23zLH9"
      }
    },
    {
      "cell_type": "code",
      "source": [
        "#################################\n",
        "# TODO: f)\n",
        "# Guided Analysis of Bias in Word Vectors\n",
        "# Here `positive` indicates the list of words to be similar to and \n",
        "# `negative` indicates the list of words to be most dissimilar from.\n",
        "# ------------------\n",
        "pprint.pprint(wv_from_bin_pl.most_similar(\n",
        "    positive=['kobieta', 'szefowa'], negative=['mezczyzna']))\n",
        "print()\n",
        "pprint.pprint(wv_from_bin_pl.most_similar(\n",
        "    positive=['mezczyzna', 'szef'], negative=['kobieta']))"
      ],
      "metadata": {
        "id": "gNXniHyW1FW4",
        "colab": {
          "base_uri": "https://localhost:8080/"
        },
        "outputId": "641edc16-ecda-4215-fa0a-eeff3579cd07"
      },
      "execution_count": 17,
      "outputs": [
        {
          "output_type": "stream",
          "name": "stdout",
          "text": [
            "[('pracowniczka', 0.643110454082489),\n",
            " ('praktykantka', 0.6401199102401733),\n",
            " ('dyrektorka', 0.6252585649490356),\n",
            " ('prezeska', 0.6222735047340393),\n",
            " ('koordynatorka', 0.6162452697753906),\n",
            " ('policjantka', 0.6106235980987549),\n",
            " ('konsultantka', 0.6103208065032959),\n",
            " ('kierowniczka', 0.6071678400039673),\n",
            " ('pielęgniarka', 0.6062616109848022),\n",
            " ('lekarka', 0.605736494064331)]\n",
            "\n",
            "[('zastępca', 0.6033658981323242),\n",
            " ('pulkownik', 0.5758262276649475),\n",
            " ('cielem', 0.5458890199661255),\n",
            " ('zastepca', 0.5408223867416382),\n",
            " ('usilowaly', 0.5374375581741333),\n",
            " ('czlonkiem', 0.5349616408348083),\n",
            " ('obowiazków', 0.5332584381103516),\n",
            " ('opucil', 0.5332545638084412),\n",
            " ('komendant', 0.532918393611908),\n",
            " ('obowiazani', 0.5302093029022217)]\n"
          ]
        },
        {
          "output_type": "stream",
          "name": "stderr",
          "text": [
            "/usr/local/lib/python3.7/dist-packages/gensim/models/keyedvectors.py:783: RuntimeWarning: invalid value encountered in true_divide\n",
            "  dists = dot(self.vectors[clip_start:clip_end], mean) / self.norms[clip_start:clip_end]\n"
          ]
        }
      ]
    },
    {
      "cell_type": "markdown",
      "source": [
        "# **What do you find in the top 10?**\n",
        "\n",
        "Answer above"
      ],
      "metadata": {
        "id": "VZ6rmust2kDt"
      }
    },
    {
      "cell_type": "markdown",
      "source": [
        "# **g) Independent Analysis of Bias in Word Vectors**"
      ],
      "metadata": {
        "id": "0Vzxp-Y1zRT5"
      }
    },
    {
      "cell_type": "code",
      "source": [
        "#################################\n",
        "# TODO: g)\n",
        "pprint.pprint(wv_from_bin_pl.most_similar(\n",
        "    positive=['hindus', 'praca'], negative=['niemiec']))\n",
        "print()\n",
        "\n",
        "pprint.pprint(wv_from_bin_pl.most_similar(\n",
        "    positive=['niemiec', 'praca'], negative=['hindus']))\n",
        "print()\n",
        "# ------------------"
      ],
      "metadata": {
        "id": "Ri1_CwxZ1HVV",
        "colab": {
          "base_uri": "https://localhost:8080/"
        },
        "outputId": "7692686e-6c46-4d1f-abd9-496c03fca33d"
      },
      "execution_count": 18,
      "outputs": [
        {
          "output_type": "stream",
          "name": "stdout",
          "text": [
            "[('bramin', 0.5531176924705505),\n",
            " ('profesja', 0.5462596416473389),\n",
            " ('sadhu', 0.5459310412406921),\n",
            " ('praktyk', 0.5381325483322144),\n",
            " ('medytacja', 0.5359070897102356),\n",
            " ('jogini', 0.5339097380638123),\n",
            " ('jog', 0.5323072671890259),\n",
            " ('zazen', 0.5295499563217163),\n",
            " ('swami', 0.5285502672195435),\n",
            " ('svatmarama', 0.5278098583221436)]\n",
            "\n",
            "[('działalność', 0.5820961594581604),\n",
            " ('prace', 0.5648640394210815),\n",
            " ('akcja', 0.5497881174087524),\n",
            " ('naprawa', 0.53857421875),\n",
            " ('decyzja', 0.5347055196762085),\n",
            " ('robota', 0.523947536945343),\n",
            " ('odbudowa', 0.521183967590332),\n",
            " ('inwestycja', 0.5211167931556702),\n",
            " ('planowanie', 0.5165292024612427),\n",
            " ('operacja', 0.5140879154205322)]\n",
            "\n"
          ]
        },
        {
          "output_type": "stream",
          "name": "stderr",
          "text": [
            "/usr/local/lib/python3.7/dist-packages/gensim/models/keyedvectors.py:783: RuntimeWarning: invalid value encountered in true_divide\n",
            "  dists = dot(self.vectors[clip_start:clip_end], mean) / self.norms[clip_start:clip_end]\n"
          ]
        }
      ]
    },
    {
      "cell_type": "markdown",
      "source": [
        "# **Briefly explain the example of bias that you discover.**\n",
        "Bias in terms of different nationalities and attitudes to work."
      ],
      "metadata": {
        "id": "q1qBm6Lm2o8W"
      }
    },
    {
      "cell_type": "markdown",
      "source": [
        "# **h) The source of bias in word vectors**\n",
        "The bias manifests itself in the fact that words close to `German` and `work`, as well as distant from `Hindu` are, for example:\n",
        "`działalność`, `odbudowa`, `naprawa`, `akcja`, `inwestycja`, `planowanie` - and create a German as a proactive worker (plans, repairs, invests, runs a business)\n",
        "\n",
        "On the other hand, words close to the `Hindu` and `work` and distant to the `German` are:\n",
        "\n",
        "`Bramin`, `medytacja`, `sadhu`, `zazen` - words used with religion and clergy. So they create a Hindu as a person working mainly on himself (meditates, is a priest, etc.), and less treats work as a way to earn money."
      ],
      "metadata": {
        "id": "hwG_NJ9_3BAP"
      }
    },
    {
      "cell_type": "markdown",
      "source": [
        "# **i) English versus Polish**"
      ],
      "metadata": {
        "id": "ygbR232Z1JPl"
      }
    },
    {
      "cell_type": "code",
      "source": [
        "import gensim.downloader as api\n",
        "wv_from_bin = api.load(\"word2vec-google-news-300\")"
      ],
      "metadata": {
        "colab": {
          "base_uri": "https://localhost:8080/"
        },
        "id": "h0uxvjvQ5r6B",
        "outputId": "856ecffe-8c6e-4d27-90a3-e719ba356e6f"
      },
      "execution_count": 20,
      "outputs": [
        {
          "output_type": "stream",
          "name": "stdout",
          "text": [
            "[==================================================] 100.0% 1662.8/1662.8MB downloaded\n"
          ]
        }
      ]
    },
    {
      "cell_type": "code",
      "source": [
        "def load_word2vec():\n",
        "    \"\"\" Load Word2Vec Vectors\n",
        "        Return:\n",
        "            wv_from_bin: All 3 million embeddings, each lengh 300\n",
        "    \"\"\"\n",
        "\n",
        "    vocab = list(wv_from_bin.key_to_index.keys())\n",
        "    print(\"Loaded vocab size %i\" % len(vocab))\n",
        "    return wv_from_bin\n",
        "\n",
        "wv_from_bin = load_word2vec()"
      ],
      "metadata": {
        "id": "oRrv_HCmebGX",
        "outputId": "6b872dca-7dd6-4adb-9250-b6eb8dd613c7",
        "colab": {
          "base_uri": "https://localhost:8080/"
        }
      },
      "execution_count": 21,
      "outputs": [
        {
          "output_type": "stream",
          "name": "stdout",
          "text": [
            "Loaded vocab size 3000000\n"
          ]
        }
      ]
    },
    {
      "cell_type": "markdown",
      "source": [
        "# **b) Polysemous Words**"
      ],
      "metadata": {
        "id": "csASHSeozXg-"
      }
    },
    {
      "cell_type": "code",
      "source": [
        "#################################\n",
        "# TODO: b)\n",
        "# Polysemous Words\n",
        "print(wv_from_bin.most_similar('bank'))\n",
        "# Write your polysemous word exploration code here.\n",
        "\n",
        "# ------------------"
      ],
      "metadata": {
        "id": "tRXTqfoBmVeX",
        "colab": {
          "base_uri": "https://localhost:8080/"
        },
        "outputId": "96ab175e-c088-48f6-ec22-c02d01decb53"
      },
      "execution_count": 22,
      "outputs": [
        {
          "output_type": "stream",
          "name": "stdout",
          "text": [
            "[('banks', 0.7440759539604187), ('banking', 0.690161406993866), ('Bank', 0.6698698401451111), ('lender', 0.6342284679412842), ('banker', 0.6092953085899353), ('depositors', 0.6031531691551208), ('mortgage_lender', 0.5797975659370422), ('depositor', 0.5716427564620972), ('BofA', 0.5714625120162964), ('Citibank', 0.5589520335197449)]\n"
          ]
        }
      ]
    },
    {
      "cell_type": "markdown",
      "source": [
        "# **Answer**\n",
        "\n",
        "`Bank` - diffrent meanings.\n",
        "\n",
        "bank as a verb (składać pieniądze)\n",
        "\n",
        "banking as a noun (bankowość)\n",
        "etc."
      ],
      "metadata": {
        "id": "cYGS3K7Nai3y"
      }
    },
    {
      "cell_type": "markdown",
      "source": [
        "# **c) Synonyms & Antonyms**"
      ],
      "metadata": {
        "id": "DLbVF8dizb-N"
      }
    },
    {
      "cell_type": "code",
      "source": [
        "#################################\n",
        "# TODO: c)\n",
        "# Synonyms & Antonyms\n",
        "w1 = \"rich\"\n",
        "w2 = \"opulent\"\n",
        "w3 = \"poor\"\n",
        "w1_w2_dist = wv_from_bin.distance(w1, w2)\n",
        "w1_w3_dist = wv_from_bin.distance(w1, w3)\n",
        "\n",
        "print(\"Synonyms {}, {} have cosine distance: {}\".format(w1, w2, w1_w2_dist))\n",
        "print(\"Antonyms {}, {} have cosine distance: {}\".format(w1, w3, w1_w3_dist))\n",
        "# Write your synonym & antonym exploration code here.\n",
        "\n",
        "#################################"
      ],
      "metadata": {
        "id": "wOsGBaWG1TCR",
        "colab": {
          "base_uri": "https://localhost:8080/"
        },
        "outputId": "d137f640-9a91-45b6-bc68-68a5f2eb079e"
      },
      "execution_count": 57,
      "outputs": [
        {
          "output_type": "stream",
          "name": "stdout",
          "text": [
            "Synonyms rich, opulent have cosine distance: 0.6696735620498657\n",
            "Antonyms rich, poor have cosine distance: 0.627720057964325\n"
          ]
        }
      ]
    },
    {
      "cell_type": "markdown",
      "source": [
        "# **Why this counter intuitive result may have happened?**\n",
        "It seems to me that the word `opulent` is rarely used overall so it's distant most of the words."
      ],
      "metadata": {
        "id": "9v4nD1xuiUYC"
      }
    },
    {
      "cell_type": "markdown",
      "source": [
        "# **d) Finding Analogies**"
      ],
      "metadata": {
        "id": "WdP5IpqNzffH"
      }
    },
    {
      "cell_type": "code",
      "source": [
        "# TODO: d)\n",
        "# Solving Analogies with Word Vectors\n",
        "# ------------------\n",
        "pprint.pprint(wv_from_bin.most_similar(\n",
        "    positive=[\"man\", \"waitress\"], negative=[\"waiter\"]))\n",
        "# ------------------\n"
      ],
      "metadata": {
        "id": "4Je12qNn1Wqs",
        "colab": {
          "base_uri": "https://localhost:8080/"
        },
        "outputId": "2d87ef4b-704a-4fb4-a1b3-1ff0dca91d28"
      },
      "execution_count": 43,
      "outputs": [
        {
          "output_type": "stream",
          "name": "stdout",
          "text": [
            "[('woman', 0.773227870464325),\n",
            " ('teenage_girl', 0.6492705345153809),\n",
            " ('girl', 0.6411365270614624),\n",
            " ('teenager', 0.6115584969520569),\n",
            " ('boy', 0.5827294588088989),\n",
            " ('teen_ager', 0.5439349412918091),\n",
            " ('teenaged_girl', 0.5038325190544128),\n",
            " ('girlfriend', 0.5008701682090759),\n",
            " ('Robbery_suspect', 0.4987116754055023),\n",
            " ('Prison_escapee', 0.4952958822250366)]\n"
          ]
        }
      ]
    },
    {
      "cell_type": "markdown",
      "source": [
        "# **Answer:**\n",
        "\n",
        "`man: waiter :: woman : waitress`"
      ],
      "metadata": {
        "id": "1knq_u75fnRc"
      }
    },
    {
      "cell_type": "markdown",
      "source": [
        "# **e) Incorrect Analogies**"
      ],
      "metadata": {
        "id": "Ys4BakOszpDp"
      }
    },
    {
      "cell_type": "code",
      "source": [
        "#################################\n",
        "# TODO: e)\n",
        "# Incorrect Analogy\n",
        "# ------------------\n",
        "pprint.pprint(wv_from_bin.most_similar(\n",
        "    positive=[\"sleep\", \"kitchen\"], negative=[\"bed\"]))\n",
        "\n",
        "# ------------------\n"
      ],
      "metadata": {
        "id": "aqI_J3BI1YFa",
        "colab": {
          "base_uri": "https://localhost:8080/"
        },
        "outputId": "cd16fd0e-2420-4179-93c3-b6c8f55807f2"
      },
      "execution_count": 46,
      "outputs": [
        {
          "output_type": "stream",
          "name": "stdout",
          "text": [
            "[('kitchens', 0.5266509056091309),\n",
            " ('cooking', 0.49796661734580994),\n",
            " ('healthful_meals', 0.47584229707717896),\n",
            " ('cooks', 0.4682634472846985),\n",
            " ('Healthful_eating', 0.46467867493629456),\n",
            " ('mealtime', 0.46205735206604004),\n",
            " ('bathroom', 0.4584217369556427),\n",
            " ('stovetops', 0.4533143937587738),\n",
            " ('cook', 0.45076462626457214),\n",
            " ('cook_nutritious_meals', 0.43667396903038025)]\n"
          ]
        }
      ]
    },
    {
      "cell_type": "markdown",
      "source": [
        "# **Answer:**\n",
        "\n",
        "`Cooking` should be 1st."
      ],
      "metadata": {
        "id": "hbXHDRrrfzR_"
      }
    },
    {
      "cell_type": "markdown",
      "source": [
        "# **f) Guided Analysis of Bias in Word Vectors**"
      ],
      "metadata": {
        "id": "A9Q5zTfEzsmN"
      }
    },
    {
      "cell_type": "code",
      "source": [
        "#################################\n",
        "# TODO: f)\n",
        "# Guided Analysis of Bias in Word Vectors\n",
        "# Here `positive` indicates the list of words to be similar to and \n",
        "# `negative` indicates the list of words to be most dissimilar from.\n",
        "# ------------------\n",
        "pprint.pprint(wv_from_bin.most_similar(\n",
        "    positive=['woman', 'science'], negative=['man']))\n",
        "print()\n",
        "pprint.pprint(wv_from_bin.most_similar(\n",
        "    positive=['man', 'science'], negative=['woman']))"
      ],
      "metadata": {
        "id": "PwEQnB3h1eU7",
        "colab": {
          "base_uri": "https://localhost:8080/"
        },
        "outputId": "d40dd418-7813-45b9-f72b-19081307c934"
      },
      "execution_count": null,
      "outputs": [
        {
          "output_type": "stream",
          "name": "stdout",
          "text": [
            "[('biology', 0.5811161994934082),\n",
            " ('sciences', 0.5771055221557617),\n",
            " ('faith_Jezierski', 0.5717575550079346),\n",
            " ('Hilal_Khashan_professor', 0.5432188510894775),\n",
            " ('scientific', 0.5337136387825012),\n",
            " ('professor_Burdett_Loomis', 0.5317376255989075),\n",
            " ('DuPont_http://www.dupont.com', 0.5166647434234619),\n",
            " ('arts_humanities', 0.5114614367485046),\n",
            " ('Science', 0.5096142888069153),\n",
            " ('developmental_psychology', 0.5088647603988647)]\n",
            "\n",
            "[('faith_Jezierski', 0.5785573720932007),\n",
            " ('physics_astronomy', 0.5647080540657043),\n",
            " ('sciences', 0.5488621592521667),\n",
            " ('mathematics', 0.5483816266059875),\n",
            " ('scientific', 0.5455992817878723),\n",
            " ('Shlomo_Avineri_professor', 0.5447791814804077),\n",
            " ('biology', 0.537142813205719),\n",
            " ('physics', 0.5347105264663696),\n",
            " ('arithmetic_geometry', 0.5213109850883484),\n",
            " ('impeach_USADA', 0.5136756300926208)]\n"
          ]
        }
      ]
    },
    {
      "cell_type": "markdown",
      "source": [
        "# **Answer**\n",
        "\n",
        "Sex bias in science (more sciences connected to Math are close to man and far from woman)."
      ],
      "metadata": {
        "id": "qga9PNGGZ2E_"
      }
    },
    {
      "cell_type": "markdown",
      "source": [
        "# **g) Independent Analysis of Bias in Word Vectors**"
      ],
      "metadata": {
        "id": "yZgTM7PVzx37"
      }
    },
    {
      "cell_type": "code",
      "source": [
        "#################################\n",
        "# TODO: g)\n",
        "pprint.pprint(wv_from_bin.most_similar(\n",
        "    positive=['hindu', 'science'], negative=['german']))\n",
        "print()\n",
        "\n",
        "pprint.pprint(wv_from_bin.most_similar(\n",
        "    positive=['german', 'science'], negative=['hindu']))\n",
        "print()\n",
        "# ------------------"
      ],
      "metadata": {
        "id": "58fGdYIz1ggE",
        "colab": {
          "base_uri": "https://localhost:8080/"
        },
        "outputId": "0437913d-165c-40ee-e32e-d5a7ef8ca167"
      },
      "execution_count": null,
      "outputs": [
        {
          "output_type": "stream",
          "name": "stdout",
          "text": [
            "[('faith_Jezierski', 0.5046392679214478),\n",
            " ('biology', 0.4839395582675934),\n",
            " ('professor_Kent_Redfield', 0.4803318381309509),\n",
            " ('Science', 0.4698144197463989),\n",
            " ('impeach_USADA', 0.46569642424583435),\n",
            " ('scientific', 0.4614698886871338),\n",
            " ('professor_Burdett_Loomis', 0.4595963656902313),\n",
            " ('sciences', 0.4588996171951294),\n",
            " ('Carl_Shepro_professor', 0.4565400183200836),\n",
            " ('Academy_INSA', 0.453952819108963)]\n",
            "\n",
            "[('sciences', 0.44298893213272095),\n",
            " (\"magazine_c't\", 0.4207650125026703),\n",
            " ('bionic_prosthetic_fingers', 0.41890135407447815),\n",
            " ('physics_astronomy', 0.4139890670776367),\n",
            " ('physics', 0.41334205865859985),\n",
            " ('faith_Jezierski', 0.4127029478549957),\n",
            " ('Board_BONU_specialty', 0.4116217792034149),\n",
            " ('mathematics', 0.4094737768173218),\n",
            " ('biology', 0.4091291129589081),\n",
            " ('Forschungszentrum_Jülich', 0.4018917381763458)]\n",
            "\n"
          ]
        }
      ]
    },
    {
      "cell_type": "markdown",
      "source": [
        "# **Answer**\n",
        "\n",
        "Bias in terms of different nationalities and science."
      ],
      "metadata": {
        "id": "XGaBDeX9O512"
      }
    },
    {
      "cell_type": "markdown",
      "source": [
        "# **Have you observed any qualitative differences? Answer with up to 7 sentences.**\n",
        "\n",
        "It is harder to find correct analogies in English because many words don't have a distinction for male or female. However, it is easier to find polysemous words in English because the vocabulary isn't as rich as polish. I mean that many words in English have completly diffrent meaning depending on context. For example Bank (the one I found above) or bear, get etc."
      ],
      "metadata": {
        "id": "RifJgkCaPJL-"
      }
    }
  ]
}